{
 "cells": [
  {
   "cell_type": "code",
   "execution_count": 1,
   "metadata": {},
   "outputs": [],
   "source": [
    "import numpy as np"
   ]
  },
  {
   "cell_type": "code",
   "execution_count": 2,
   "metadata": {},
   "outputs": [],
   "source": [
    "start = 64\n",
    "\n",
    "space = np.logspace(np.log10(start), np.log10(1023), 16)\n",
    "results = abs(space - 1023)[::-1] + start"
   ]
  },
  {
   "cell_type": "code",
   "execution_count": 3,
   "metadata": {},
   "outputs": [
    {
     "data": {
      "text/plain": [
       "'64, 236, 380, 499, 598, 680, 749, 806, 853, 893, 925, 952, 975, 994, 1010, 1023'"
      ]
     },
     "execution_count": 3,
     "metadata": {},
     "output_type": "execute_result"
    }
   ],
   "source": [
    "\", \".join(results.astype(int).astype(str))"
   ]
  },
  {
   "cell_type": "markdown",
   "metadata": {},
   "source": [
    "# Two slopes\n",
    "\n",
    "$$\n",
    "    n_1f\\Delta_1 + n_2\\Delta_2 = n_1f\\Delta + n_2\\Delta = max = 1024 \\qquad n_1 + n_2 = N_{\\text{divisions}} = 16\n",
    "$$\n",
    "\n",
    "$$\n",
    "    \\Delta = \\Delta_2 = \\dfrac{max}{n_1f + n_2} \\qquad \\Delta_1 = f\\Delta_2\n",
    "$$"
   ]
  },
  {
   "cell_type": "code",
   "execution_count": 4,
   "metadata": {},
   "outputs": [],
   "source": [
    "max = 1024\n",
    "n1 = 8\n",
    "n2 = 8\n",
    "f = 2"
   ]
  },
  {
   "cell_type": "code",
   "execution_count": 5,
   "metadata": {},
   "outputs": [],
   "source": [
    "delta = max / (n1 * f + n2)\n",
    "delta1 = f * delta\n",
    "delta2 = delta"
   ]
  },
  {
   "cell_type": "code",
   "execution_count": 6,
   "metadata": {},
   "outputs": [
    {
     "data": {
      "text/plain": [
       "(85.33333333333333, 42.666666666666664)"
      ]
     },
     "execution_count": 6,
     "metadata": {},
     "output_type": "execute_result"
    }
   ],
   "source": [
    "delta1, delta2"
   ]
  },
  {
   "cell_type": "code",
   "execution_count": 7,
   "metadata": {},
   "outputs": [],
   "source": [
    "s1 = [(i + 1) * delta1 for i in range(n1)]\n",
    "s2 = [(i + 1) * delta2 + s1[-1] for i in range(n2)]\n",
    "s = s1 + s2\n",
    "s[-1] -= 1"
   ]
  },
  {
   "cell_type": "code",
   "execution_count": 8,
   "metadata": {},
   "outputs": [
    {
     "data": {
      "text/plain": [
       "'85, 170, 256, 341, 426, 512, 597, 682, 725, 768, 810, 853, 896, 938, 981, 1023'"
      ]
     },
     "execution_count": 8,
     "metadata": {},
     "output_type": "execute_result"
    }
   ],
   "source": [
    "\", \".join([\"%d\"%i for i in s])"
   ]
  },
  {
   "cell_type": "code",
   "execution_count": null,
   "metadata": {},
   "outputs": [],
   "source": []
  }
 ],
 "metadata": {
  "kernelspec": {
   "display_name": "Python 3",
   "language": "python",
   "name": "python3"
  },
  "language_info": {
   "codemirror_mode": {
    "name": "ipython",
    "version": 3
   },
   "file_extension": ".py",
   "mimetype": "text/x-python",
   "name": "python",
   "nbconvert_exporter": "python",
   "pygments_lexer": "ipython3",
   "version": "3.5.2"
  }
 },
 "nbformat": 4,
 "nbformat_minor": 2
}
